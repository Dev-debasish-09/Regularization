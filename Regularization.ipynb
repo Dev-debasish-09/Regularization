{
  "nbformat": 4,
  "nbformat_minor": 0,
  "metadata": {
    "colab": {
      "provenance": []
    },
    "kernelspec": {
      "name": "python3",
      "display_name": "Python 3"
    },
    "language_info": {
      "name": "python"
    }
  },
  "cells": [
    {
      "cell_type": "markdown",
      "source": [
        "**Ridge** **Regression**"
      ],
      "metadata": {
        "id": "42lSRGFs3XKi"
      }
    },
    {
      "cell_type": "code",
      "source": [
        "from sklearn.datasets import load_diabetes\n",
        "from sklearn.metrics import r2_score\n",
        "import numpy as np\n",
        "class my_ridge:\n",
        "  def __init__(self,alpha = 0.1):\n",
        "    self.alpha = alpha\n",
        "    self.m = None\n",
        "    self.b = None\n",
        "  def fit(self,x_train,y_train):\n",
        "    num = 0\n",
        "    den = 0\n",
        "    for i in range(x_train.shape[0]):\n",
        "      num = num + ((y_train[i] - y_train.mean()) * (x_train[i] - x_train.mean()))\n",
        "      den = den + ((x_train[i] - x_train.mean()) * (x_train[i] - x_train.mean()))\n",
        "    self.m = num/(den  + self.alpha)\n",
        "    self.b = y_train.mean() - self.m * x_train.mean()\n",
        "    print(self.m,self.b)\n"
      ],
      "metadata": {
        "id": "K_Qd7DsY0mlI"
      },
      "execution_count": null,
      "outputs": []
    },
    {
      "cell_type": "markdown",
      "source": [
        "**For N-Dimension**"
      ],
      "metadata": {
        "id": "6lkyrFoM9W-l"
      }
    },
    {
      "cell_type": "code",
      "source": [
        "class n_dim_ridge:\n",
        "\n",
        "  def __init__ (self,alpha=0.01):\n",
        "\n",
        "    self.alpha = alpha\n",
        "    self.coef = None\n",
        "    self.Inter = None\n",
        "\n",
        "  def fit(self,x_train,y_train):\n",
        "    x_train = np.insert(x_train,0,1,axis=1)\n",
        "    I = np.identity(x_train.shape[1])\n",
        "    result = (np.linalg.inv(np.dot(x_train.T,x_train))+self.alpha*I).dot(x_train.T).dot(y_train)\n",
        "    self.coef = result[1:]\n",
        "    self.Inter = result[0]\n",
        "  def predict(self,x_test):\n",
        "    return np.dot(x_test,self.coef) + self.Inter"
      ],
      "metadata": {
        "id": "zb_z6bqa9jSX"
      },
      "execution_count": null,
      "outputs": []
    },
    {
      "cell_type": "code",
      "source": [],
      "metadata": {
        "id": "KPnYD1ZX0moV"
      },
      "execution_count": null,
      "outputs": []
    },
    {
      "cell_type": "code",
      "source": [],
      "metadata": {
        "id": "IWMpB1P5zruW"
      },
      "execution_count": null,
      "outputs": []
    }
  ]
}